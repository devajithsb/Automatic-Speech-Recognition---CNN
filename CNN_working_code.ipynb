{
  "nbformat": 4,
  "nbformat_minor": 0,
  "metadata": {
    "colab": {
      "provenance": [],
      "authorship_tag": "ABX9TyOBg324YlmLdAi3J5tWQ5Oc",
      "include_colab_link": true
    },
    "kernelspec": {
      "name": "python3",
      "display_name": "Python 3"
    },
    "language_info": {
      "name": "python"
    }
  },
  "cells": [
    {
      "cell_type": "markdown",
      "metadata": {
        "id": "view-in-github",
        "colab_type": "text"
      },
      "source": [
        "<a href=\"https://colab.research.google.com/github/devajithsb/Automatic-Speech-Recognition---CNN/blob/main/CNN_working_code.ipynb\" target=\"_parent\"><img src=\"https://colab.research.google.com/assets/colab-badge.svg\" alt=\"Open In Colab\"/></a>"
      ]
    },
    {
      "cell_type": "code",
      "source": [
        "#CNN implementation code"
      ],
      "metadata": {
        "id": "rbc3vY0vZMSW"
      },
      "execution_count": null,
      "outputs": []
    },
    {
      "cell_type": "code",
      "execution_count": null,
      "metadata": {
        "colab": {
          "base_uri": "https://localhost:8080/"
        },
        "id": "QyhKNt0kVndt",
        "outputId": "cc4f336c-a3bb-473a-98b1-bcb5f97bb7ee"
      },
      "outputs": [
        {
          "output_type": "stream",
          "name": "stdout",
          "text": [
            "Collecting SpeechRecognition\n",
            "  Downloading SpeechRecognition-3.14.1-py3-none-any.whl.metadata (31 kB)\n",
            "Requirement already satisfied: typing-extensions in /usr/local/lib/python3.11/dist-packages (from SpeechRecognition) (4.12.2)\n",
            "Downloading SpeechRecognition-3.14.1-py3-none-any.whl (32.9 MB)\n",
            "\u001b[2K   \u001b[90m━━━━━━━━━━━━━━━━━━━━━━━━━━━━━━━━━━━━━━━━\u001b[0m \u001b[32m32.9/32.9 MB\u001b[0m \u001b[31m19.0 MB/s\u001b[0m eta \u001b[36m0:00:00\u001b[0m\n",
            "\u001b[?25hInstalling collected packages: SpeechRecognition\n",
            "Successfully installed SpeechRecognition-3.14.1\n"
          ]
        }
      ],
      "source": [
        "!pip install SpeechRecognition"
      ]
    },
    {
      "cell_type": "code",
      "source": [
        "import librosa\n",
        "import numpy as np\n",
        "import os\n",
        "from sklearn.model_selection import train_test_split\n",
        "from sklearn.preprocessing import LabelEncoder\n",
        "from sklearn.metrics import precision_score, recall_score, f1_score, accuracy_score\n",
        "from tensorflow import keras\n",
        "from tensorflow.keras import layers\n",
        "import matplotlib.pyplot as plt\n",
        "import speech_recognition as sr\n",
        "# 1. Extract Features from Audio\n",
        "def extract_features(audio_file):\n",
        "    try:\n",
        "        y, sr = librosa.load(audio_file, sr=16000)\n",
        "        if len(y) == 0:\n",
        "            print(f\"Warning: {audio_file} is silent.\")\n",
        "            return None\n",
        "        mfccs = librosa.feature.mfcc(y=y, sr=sr, n_mfcc=13)\n",
        "        if mfccs.shape[1] == 0:\n",
        "            print(f\"Warning: No MFCCs extracted from {audio_file}\")\n",
        "            return None\n",
        "        return np.mean(mfccs.T, axis=0)  # Mean pooling to flatten features\n",
        "    except Exception as e:\n",
        "        print(f\"Error processing {audio_file}: {e}\")\n",
        "        return None\n",
        "\n",
        "# 2. Convert Speech to Text (using Google Speech Recognition)\n",
        "def speech_to_text(audio_file):\n",
        "    try:\n",
        "        r = sr.Recognizer()\n",
        "        with sr.AudioFile(audio_file) as source:\n",
        "            audio_data = r.record(source)\n",
        "        text = r.recognize_google(audio_data)  # Requires internet connection\n",
        "        return text.lower()\n",
        "    except sr.UnknownValueError:\n",
        "        print(f\"Could not understand audio: {audio_file}\")\n",
        "        return None\n",
        "    except sr.RequestError as e:\n",
        "        print(f\"Could not request results from Google Speech Recognition service; {e}\")\n",
        "        return None\n",
        "    except Exception as e: # Catching other potential errors\n",
        "        print(f\"Error in speech_to_text: {e}\")\n",
        "        return None\n",
        "\n",
        "# 3. Dataset\n",
        "audio_files_and_labels = [\n",
        "    (\"sounds/Life is a beautiful (alfred-british).wav\", \"Life is a beautiful journey\"),  # Use actual text labels\n",
        "    (\"sounds/Hello Myself Devajit.wav\", \"hello myself devajit\"),\n",
        "    (\"sounds/Hello My self Ryan(canadian -ryan).wav\", \"hello myself ryan\"),\n",
        "    (\"sounds/Hello My self Rishi(indian-rishi).wav\", \"hello myself rishi\"),\n",
        "    (\"sounds/Hello Myself Devajit (irish-cillian).wav\", \"hello myself Devajit\"),\n",
        "    (\"sounds/Life is a beautiful (shirley-scottish).wav\", \"Life is a beautiful journey\"),\n",
        "]\n",
        "\n",
        "X, y = [], []\n",
        "for audio_path, label in audio_files_and_labels:\n",
        "    if os.path.exists(audio_path):\n",
        "        features = extract_features(audio_path)\n",
        "        if features is not None:\n",
        "            X.append(features)\n",
        "            y.append(label.lower())  # Keep labels lowercase\n",
        "        else:\n",
        "            print(f\"Warning: Features not extracted for {audio_path}\")\n",
        "    else:\n",
        "        print(f\"Error: Audio file not found: {audio_path}\")\n",
        "\n",
        "if not X or not y:\n",
        "    exit(\"Error: No valid features extracted. Check your audio files.\")\n",
        "\n",
        "X = np.array(X)\n",
        "\n",
        "# 4. Encode Labels (AFTER splitting the data)\n",
        "label_encoder = LabelEncoder()\n",
        "y_encoded = label_encoder.fit_transform(y)\n",
        "\n",
        "# 5. Split Data (BEFORE encoding labels)\n",
        "X_train, X_test, y_train, y_test = train_test_split(X, y_encoded, test_size=0.2, random_state=42)\n",
        "\n",
        "# 6. Build DNN Model (input_shape should be correct now)\n",
        "model = keras.Sequential([\n",
        "    layers.Dense(256, activation='relu', input_shape=(X_train.shape[1],)),\n",
        "    layers.Dropout(0.2),\n",
        "    layers.Dense(128, activation='relu'),\n",
        "    layers.Dropout(0.2),\n",
        "    layers.Dense(len(label_encoder.classes_), activation='softmax')\n",
        "])\n",
        "\n",
        "# 7. Compile and Train Model\n",
        "model.compile(optimizer='adam',\n",
        "              loss='sparse_categorical_crossentropy',  # Correct loss function\n",
        "              metrics=['accuracy'])\n",
        "\n",
        "model.summary()\n",
        "model.fit(X_train, y_train, epochs=10, batch_size=8, validation_data=(X_test, y_test))\n",
        "\n",
        "# 8. Evaluate Model (Word-Level Metrics - Corrected)\n",
        "def evaluate_model(ground_truth, predicted):\n",
        "    if ground_truth is None or predicted is None:\n",
        "        return {'precision': 0, 'recall': 0, 'f1_score': 0, 'accuracy': 0}\n",
        "\n",
        "    ground_truth_words = ground_truth.lower().split() # Ground truth is already a string\n",
        "    predicted_words = predicted.lower().split()\n",
        "\n",
        "    common_words = set(ground_truth_words) & set(predicted_words)\n",
        "    precision = len(common_words) / len(predicted_words) if predicted_words else 0\n",
        "    recall = len(common_words) / len(ground_truth_words) if ground_truth_words else 0\n",
        "    f1 = 2 * precision * recall / (precision + recall) if precision + recall else 0\n",
        "    accuracy = len(common_words) / len(set(ground_truth_words) | set(predicted_words)) if (set(ground_truth_words) | set(predicted_words)) else 0\n",
        "    return {'precision': precision, 'recall': recall, 'f1_score': f1, 'accuracy': accuracy}\n",
        "\n",
        "# 9. Model Prediction and Evaluation (Corrected)\n",
        "total_precision = total_recall = total_f1 = total_accuracy = total_weight = 0\n",
        "\n",
        "for audio_path, ground_truth_label in audio_files_and_labels:  # Use ground_truth_label\n",
        "    recognized_text = speech_to_text(audio_path)\n",
        "    if recognized_text is not None:\n",
        "        print(f\"Audio: {audio_path}\")\n",
        "        print(f\"Ground Truth: {ground_truth_label}\")  # Print the actual ground truth\n",
        "        print(f\"Recognized Text: {recognized_text}\")\n",
        "\n",
        "        metrics = evaluate_model(ground_truth_label, recognized_text) #Use ground_truth_label\n",
        "        weight = 1\n",
        "        total_precision += metrics['precision'] * weight\n",
        "        total_recall += metrics['recall'] * weight\n",
        "        total_f1 += metrics['f1_score'] * weight\n",
        "        total_accuracy += metrics['accuracy'] * weight\n",
        "        total_weight += weight\n",
        "\n",
        "# 10. Display Weighted Averages\n",
        "if total_weight > 0:\n",
        "    print(\"\\nWeighted Averages:\")\n",
        "    print(f\"Weighted Precision: {total_precision / total_weight:.2f}\")\n",
        "    print(f\"Weighted Recall: {total_recall / total_weight:.2f}\")\n",
        "    print(f\"Weighted F1-Score: {total_f1 / total_weight:.2f}\")\n",
        "    print(f\"Weighted Accuracy: {total_accuracy / total_weight:.2f}\")\n",
        "else:\n",
        "    print(\"No valid predictions to calculate weighted averages.\")\n"
      ],
      "metadata": {
        "colab": {
          "base_uri": "https://localhost:8080/",
          "height": 1000
        },
        "id": "VykTUL65TRG0",
        "outputId": "c2b27c98-b62c-4917-914e-dcbd5005a577"
      },
      "execution_count": null,
      "outputs": [
        {
          "output_type": "stream",
          "name": "stderr",
          "text": [
            "/usr/local/lib/python3.11/dist-packages/keras/src/layers/core/dense.py:87: UserWarning: Do not pass an `input_shape`/`input_dim` argument to a layer. When using Sequential models, prefer using an `Input(shape)` object as the first layer in the model instead.\n",
            "  super().__init__(activity_regularizer=activity_regularizer, **kwargs)\n"
          ]
        },
        {
          "output_type": "display_data",
          "data": {
            "text/plain": [
              "\u001b[1mModel: \"sequential_11\"\u001b[0m\n"
            ],
            "text/html": [
              "<pre style=\"white-space:pre;overflow-x:auto;line-height:normal;font-family:Menlo,'DejaVu Sans Mono',consolas,'Courier New',monospace\"><span style=\"font-weight: bold\">Model: \"sequential_11\"</span>\n",
              "</pre>\n"
            ]
          },
          "metadata": {}
        },
        {
          "output_type": "display_data",
          "data": {
            "text/plain": [
              "┏━━━━━━━━━━━━━━━━━━━━━━━━━━━━━━━━━━━━━━┳━━━━━━━━━━━━━━━━━━━━━━━━━━━━━┳━━━━━━━━━━━━━━━━━┓\n",
              "┃\u001b[1m \u001b[0m\u001b[1mLayer (type)                        \u001b[0m\u001b[1m \u001b[0m┃\u001b[1m \u001b[0m\u001b[1mOutput Shape               \u001b[0m\u001b[1m \u001b[0m┃\u001b[1m \u001b[0m\u001b[1m        Param #\u001b[0m\u001b[1m \u001b[0m┃\n",
              "┡━━━━━━━━━━━━━━━━━━━━━━━━━━━━━━━━━━━━━━╇━━━━━━━━━━━━━━━━━━━━━━━━━━━━━╇━━━━━━━━━━━━━━━━━┩\n",
              "│ dense_33 (\u001b[38;5;33mDense\u001b[0m)                     │ (\u001b[38;5;45mNone\u001b[0m, \u001b[38;5;34m256\u001b[0m)                 │           \u001b[38;5;34m3,584\u001b[0m │\n",
              "├──────────────────────────────────────┼─────────────────────────────┼─────────────────┤\n",
              "│ dropout_22 (\u001b[38;5;33mDropout\u001b[0m)                 │ (\u001b[38;5;45mNone\u001b[0m, \u001b[38;5;34m256\u001b[0m)                 │               \u001b[38;5;34m0\u001b[0m │\n",
              "├──────────────────────────────────────┼─────────────────────────────┼─────────────────┤\n",
              "│ dense_34 (\u001b[38;5;33mDense\u001b[0m)                     │ (\u001b[38;5;45mNone\u001b[0m, \u001b[38;5;34m128\u001b[0m)                 │          \u001b[38;5;34m32,896\u001b[0m │\n",
              "├──────────────────────────────────────┼─────────────────────────────┼─────────────────┤\n",
              "│ dropout_23 (\u001b[38;5;33mDropout\u001b[0m)                 │ (\u001b[38;5;45mNone\u001b[0m, \u001b[38;5;34m128\u001b[0m)                 │               \u001b[38;5;34m0\u001b[0m │\n",
              "├──────────────────────────────────────┼─────────────────────────────┼─────────────────┤\n",
              "│ dense_35 (\u001b[38;5;33mDense\u001b[0m)                     │ (\u001b[38;5;45mNone\u001b[0m, \u001b[38;5;34m4\u001b[0m)                   │             \u001b[38;5;34m516\u001b[0m │\n",
              "└──────────────────────────────────────┴─────────────────────────────┴─────────────────┘\n"
            ],
            "text/html": [
              "<pre style=\"white-space:pre;overflow-x:auto;line-height:normal;font-family:Menlo,'DejaVu Sans Mono',consolas,'Courier New',monospace\">┏━━━━━━━━━━━━━━━━━━━━━━━━━━━━━━━━━━━━━━┳━━━━━━━━━━━━━━━━━━━━━━━━━━━━━┳━━━━━━━━━━━━━━━━━┓\n",
              "┃<span style=\"font-weight: bold\"> Layer (type)                         </span>┃<span style=\"font-weight: bold\"> Output Shape                </span>┃<span style=\"font-weight: bold\">         Param # </span>┃\n",
              "┡━━━━━━━━━━━━━━━━━━━━━━━━━━━━━━━━━━━━━━╇━━━━━━━━━━━━━━━━━━━━━━━━━━━━━╇━━━━━━━━━━━━━━━━━┩\n",
              "│ dense_33 (<span style=\"color: #0087ff; text-decoration-color: #0087ff\">Dense</span>)                     │ (<span style=\"color: #00d7ff; text-decoration-color: #00d7ff\">None</span>, <span style=\"color: #00af00; text-decoration-color: #00af00\">256</span>)                 │           <span style=\"color: #00af00; text-decoration-color: #00af00\">3,584</span> │\n",
              "├──────────────────────────────────────┼─────────────────────────────┼─────────────────┤\n",
              "│ dropout_22 (<span style=\"color: #0087ff; text-decoration-color: #0087ff\">Dropout</span>)                 │ (<span style=\"color: #00d7ff; text-decoration-color: #00d7ff\">None</span>, <span style=\"color: #00af00; text-decoration-color: #00af00\">256</span>)                 │               <span style=\"color: #00af00; text-decoration-color: #00af00\">0</span> │\n",
              "├──────────────────────────────────────┼─────────────────────────────┼─────────────────┤\n",
              "│ dense_34 (<span style=\"color: #0087ff; text-decoration-color: #0087ff\">Dense</span>)                     │ (<span style=\"color: #00d7ff; text-decoration-color: #00d7ff\">None</span>, <span style=\"color: #00af00; text-decoration-color: #00af00\">128</span>)                 │          <span style=\"color: #00af00; text-decoration-color: #00af00\">32,896</span> │\n",
              "├──────────────────────────────────────┼─────────────────────────────┼─────────────────┤\n",
              "│ dropout_23 (<span style=\"color: #0087ff; text-decoration-color: #0087ff\">Dropout</span>)                 │ (<span style=\"color: #00d7ff; text-decoration-color: #00d7ff\">None</span>, <span style=\"color: #00af00; text-decoration-color: #00af00\">128</span>)                 │               <span style=\"color: #00af00; text-decoration-color: #00af00\">0</span> │\n",
              "├──────────────────────────────────────┼─────────────────────────────┼─────────────────┤\n",
              "│ dense_35 (<span style=\"color: #0087ff; text-decoration-color: #0087ff\">Dense</span>)                     │ (<span style=\"color: #00d7ff; text-decoration-color: #00d7ff\">None</span>, <span style=\"color: #00af00; text-decoration-color: #00af00\">4</span>)                   │             <span style=\"color: #00af00; text-decoration-color: #00af00\">516</span> │\n",
              "└──────────────────────────────────────┴─────────────────────────────┴─────────────────┘\n",
              "</pre>\n"
            ]
          },
          "metadata": {}
        },
        {
          "output_type": "display_data",
          "data": {
            "text/plain": [
              "\u001b[1m Total params: \u001b[0m\u001b[38;5;34m36,996\u001b[0m (144.52 KB)\n"
            ],
            "text/html": [
              "<pre style=\"white-space:pre;overflow-x:auto;line-height:normal;font-family:Menlo,'DejaVu Sans Mono',consolas,'Courier New',monospace\"><span style=\"font-weight: bold\"> Total params: </span><span style=\"color: #00af00; text-decoration-color: #00af00\">36,996</span> (144.52 KB)\n",
              "</pre>\n"
            ]
          },
          "metadata": {}
        },
        {
          "output_type": "display_data",
          "data": {
            "text/plain": [
              "\u001b[1m Trainable params: \u001b[0m\u001b[38;5;34m36,996\u001b[0m (144.52 KB)\n"
            ],
            "text/html": [
              "<pre style=\"white-space:pre;overflow-x:auto;line-height:normal;font-family:Menlo,'DejaVu Sans Mono',consolas,'Courier New',monospace\"><span style=\"font-weight: bold\"> Trainable params: </span><span style=\"color: #00af00; text-decoration-color: #00af00\">36,996</span> (144.52 KB)\n",
              "</pre>\n"
            ]
          },
          "metadata": {}
        },
        {
          "output_type": "display_data",
          "data": {
            "text/plain": [
              "\u001b[1m Non-trainable params: \u001b[0m\u001b[38;5;34m0\u001b[0m (0.00 B)\n"
            ],
            "text/html": [
              "<pre style=\"white-space:pre;overflow-x:auto;line-height:normal;font-family:Menlo,'DejaVu Sans Mono',consolas,'Courier New',monospace\"><span style=\"font-weight: bold\"> Non-trainable params: </span><span style=\"color: #00af00; text-decoration-color: #00af00\">0</span> (0.00 B)\n",
              "</pre>\n"
            ]
          },
          "metadata": {}
        },
        {
          "output_type": "stream",
          "name": "stdout",
          "text": [
            "Epoch 1/10\n",
            "\u001b[1m1/1\u001b[0m \u001b[32m━━━━━━━━━━━━━━━━━━━━\u001b[0m\u001b[37m\u001b[0m \u001b[1m2s\u001b[0m 2s/step - accuracy: 0.0000e+00 - loss: 26.8986 - val_accuracy: 0.0000e+00 - val_loss: 25.3912\n",
            "Epoch 2/10\n",
            "\u001b[1m1/1\u001b[0m \u001b[32m━━━━━━━━━━━━━━━━━━━━\u001b[0m\u001b[37m\u001b[0m \u001b[1m0s\u001b[0m 99ms/step - accuracy: 0.5000 - loss: 13.9438 - val_accuracy: 0.0000e+00 - val_loss: 23.7656\n",
            "Epoch 3/10\n",
            "\u001b[1m1/1\u001b[0m \u001b[32m━━━━━━━━━━━━━━━━━━━━\u001b[0m\u001b[37m\u001b[0m \u001b[1m0s\u001b[0m 91ms/step - accuracy: 0.2500 - loss: 34.1374 - val_accuracy: 0.0000e+00 - val_loss: 22.1333\n",
            "Epoch 4/10\n",
            "\u001b[1m1/1\u001b[0m \u001b[32m━━━━━━━━━━━━━━━━━━━━\u001b[0m\u001b[37m\u001b[0m \u001b[1m0s\u001b[0m 153ms/step - accuracy: 0.7500 - loss: 15.1134 - val_accuracy: 0.0000e+00 - val_loss: 19.5149\n",
            "Epoch 5/10\n",
            "\u001b[1m1/1\u001b[0m \u001b[32m━━━━━━━━━━━━━━━━━━━━\u001b[0m\u001b[37m\u001b[0m \u001b[1m0s\u001b[0m 90ms/step - accuracy: 0.0000e+00 - loss: 28.3133 - val_accuracy: 0.0000e+00 - val_loss: 16.8044\n",
            "Epoch 6/10\n",
            "\u001b[1m1/1\u001b[0m \u001b[32m━━━━━━━━━━━━━━━━━━━━\u001b[0m\u001b[37m\u001b[0m \u001b[1m0s\u001b[0m 140ms/step - accuracy: 0.0000e+00 - loss: 27.4013 - val_accuracy: 0.0000e+00 - val_loss: 15.6020\n",
            "Epoch 7/10\n",
            "\u001b[1m1/1\u001b[0m \u001b[32m━━━━━━━━━━━━━━━━━━━━\u001b[0m\u001b[37m\u001b[0m \u001b[1m0s\u001b[0m 142ms/step - accuracy: 0.5000 - loss: 14.4605 - val_accuracy: 0.0000e+00 - val_loss: 14.1801\n",
            "Epoch 8/10\n",
            "\u001b[1m1/1\u001b[0m \u001b[32m━━━━━━━━━━━━━━━━━━━━\u001b[0m\u001b[37m\u001b[0m \u001b[1m0s\u001b[0m 134ms/step - accuracy: 0.2500 - loss: 19.3848 - val_accuracy: 0.0000e+00 - val_loss: 11.2053\n",
            "Epoch 9/10\n",
            "\u001b[1m1/1\u001b[0m \u001b[32m━━━━━━━━━━━━━━━━━━━━\u001b[0m\u001b[37m\u001b[0m \u001b[1m0s\u001b[0m 110ms/step - accuracy: 0.2500 - loss: 32.7723 - val_accuracy: 0.0000e+00 - val_loss: 11.3575\n",
            "Epoch 10/10\n",
            "\u001b[1m1/1\u001b[0m \u001b[32m━━━━━━━━━━━━━━━━━━━━\u001b[0m\u001b[37m\u001b[0m \u001b[1m0s\u001b[0m 134ms/step - accuracy: 0.2500 - loss: 18.1540 - val_accuracy: 0.0000e+00 - val_loss: 9.8848\n",
            "Audio: sounds/Life is a beautiful (alfred-british).wav\n",
            "Ground Truth: Life is a beautiful journey\n",
            "Recognized Text: life is a beautiful journey\n",
            "Audio: sounds/Hello Myself Devajit.wav\n",
            "Ground Truth: hello myself devajit\n",
            "Recognized Text: hello myself david\n",
            "Audio: sounds/Hello My self Ryan(canadian -ryan).wav\n",
            "Ground Truth: hello myself ryan\n",
            "Recognized Text: hello myself ryan\n",
            "Audio: sounds/Hello My self Rishi(indian-rishi).wav\n",
            "Ground Truth: hello myself rishi\n",
            "Recognized Text: hello myself rishi\n",
            "Audio: sounds/Hello Myself Devajit (irish-cillian).wav\n",
            "Ground Truth: hello myself Devajit\n",
            "Recognized Text: hello myself david\n",
            "Audio: sounds/Life is a beautiful (shirley-scottish).wav\n",
            "Ground Truth: Life is a beautiful journey\n",
            "Recognized Text: life is a beautiful journey\n",
            "\n",
            "Weighted Averages:\n",
            "Weighted Precision: 0.89\n",
            "Weighted Recall: 0.89\n",
            "Weighted F1-Score: 0.89\n",
            "Weighted Accuracy: 0.83\n"
          ]
        }
      ]
    }
  ]
}